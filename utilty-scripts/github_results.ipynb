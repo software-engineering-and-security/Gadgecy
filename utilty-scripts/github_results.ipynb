{
 "cells": [
  {
   "cell_type": "code",
   "execution_count": 1,
   "id": "initial_id",
   "metadata": {
    "collapsed": true,
    "ExecuteTime": {
     "end_time": "2024-01-05T06:57:47.833841100Z",
     "start_time": "2024-01-05T06:57:47.822373800Z"
    }
   },
   "outputs": [],
   "source": [
    "import os\n",
    "import json"
   ]
  },
  {
   "cell_type": "code",
   "execution_count": 18,
   "outputs": [],
   "source": [
    "file_path = os.path.join(\"..\", \"data\", \"results_github.json\")\n",
    "data = json.load(open(file_path))"
   ],
   "metadata": {
    "collapsed": false,
    "ExecuteTime": {
     "end_time": "2024-01-05T07:39:03.260571900Z",
     "start_time": "2024-01-05T07:39:03.184647500Z"
    }
   },
   "id": "e0be94f22fd79088"
  },
  {
   "cell_type": "code",
   "execution_count": 19,
   "outputs": [
    {
     "name": "stdout",
     "output_type": "stream",
     "text": [
      "['OpenRefine-OpenRefine', 'apache-systemds', 'oracle-tribuo', 'alibaba-velocity-spring-boot-project', 'apache-camel', 'jenkinsci-slack-plugin', 'jenkinsci-qy-wechat-notification-plugin', 'jenkinsci-docker-slaves-plugin', 'apache-hadoop', 'apache-phoenix', 'zendesk-maxwell', 'alibaba-spring-cloud-alibaba', 'jenkinsci-git-parameter-plugin', 'keycloak-keycloak', 'jenkinsci-jacoco-plugin', 'apache-skywalking', 'apache-cloudstack', 'jenkinsci-kubernetes-plugin', 'dromara-dynamic-tp', 'jenkinsci-gitlab-plugin', 'apache-avro', 'apache-shenyu', 'jenkinsci-docker-build-publish-plugin', 'jenkinsci-role-strategy-plugin', 'jenkinsci-generic-webhook-trigger-plugin', 'apache-activemq', 'jenkinsci-email-ext-plugin', 'jenkinsci-docker-workflow-plugin', 'apache-flume', 'apache-atlas', 'jenkinsci-subversion-plugin', 'apache-incubator-streampark', 'apache-kylin', 'jenkinsci-stashnotifier-plugin', 'alibaba-Appactive', 'eclipse-kapua', 'apache-mahout', 'apache-activemq-artemis', 'elastic-support-diagnostics', 'alibaba-wasp', 'jenkinsci-publish-over-ssh-plugin', 'apache-hbase', 'spring-projects-spring-batch', 'jenkinsci-stapler', 'eclipse-jnosql', 'dromara-gobrs-async', 'apache-pulsar', 'jenkinsci-embeddable-build-status-plugin', 'jenkinsci-git-client-plugin', 'jenkinsci-configuration-as-code-plugin', 'neo4j-neo4j', 'apache-pinot', 'apache-iotdb', 'apache-bookkeeper', 'alibaba-druid', 'jenkinsci-workflow-cps-global-lib-plugin', 'apache-flink', 'pinpoint-apm-pinpoint', 'NanoHttpd-nanohttpd', 'jenkinsci-http-request-plugin', 'jitsi-jitsi-meet-torture', 'Netflix-CassJMeter', 'jenkinsci-throttle-concurrent-builds-plugin', 'jenkinsci-workflow-cps-plugin', 'apache-incubator-paimon', 'jenkinsci-docker-plugin', 'apache-hive', 'SonarSource-sonar-scanner-jenkins', 'jenkinsci-github-plugin', 'mybatis-guice', 'jenkinsci-hashicorp-vault-plugin', 'jenkinsci-git-plugin', 'alibaba-QLExpress', 'apache-inlong', 'apache-incubator-hugegraph', 'jenkinsci-code-coverage-api-plugin', 'apache-tika', 'spring-projects-spring-data-redis', 'jenkinsci-github-branch-source-plugin', 'hibernate-hibernate-search', 'apache-rocketmq-dashboard', 'apache-dolphinscheduler', 'jenkinsci-ansicolor-plugin', 'jenkinsci-gerrit-trigger-plugin', 'dromara-hodor', 'alibaba-bulbasaur', 'jenkinsci-credentials-plugin', 'apache-ambari', 'apache-servicecomb-pack', 'spring-projects-spring-ws-samples', 'jenkinsci-jenkinsfile-runner', 'jenkinsci-android-emulator-plugin', 'alibaba-fastjson', 'apache-hudi', 'dromara-raincat', 'jenkinsci-cobertura-plugin', 'apache-cassandra-java-driver', 'dromara-hutool', 'dromara-dataCompare', 'jenkinsci-gitea-plugin', 'apache-struts', 'jenkinsci-swarm-plugin', 'jenkinsci-bitbucket-branch-source-plugin', 'jenkinsci-amazon-ecs-plugin', 'jenkinsci-pipeline-as-yaml-plugin', 'jenkinsci-jira-steps-plugin', 'apache-zeppelin', 'jenkinsci-dependency-check-plugin', 'apache-ignite', 'jenkinsci-ansible-plugin', 'jenkinsci-artifactory-plugin', 'jenkinsci-docker-build-step-plugin', 'apache-tinkerpop', 'Alluxio-alluxio', 'jenkinsci-ssh-steps-plugin', 'jenkinsci-pipeline-utility-steps-plugin', 'jenkinsci-warnings-ng-plugin', 'dromara-lamp-cloud', 'jenkinsci-ghprb-plugin', 'jenkinsci-blueocean-plugin', 'SonarSource-sonar-java', 'jenkinsci-performance-plugin', 'apache-linkis', 'apache-parquet-mr', 'dromara-liteflow', 'apache-nifi', 'dromara-myth', 'jenkinsci-groovy-sandbox', 'jenkinsci-build-monitor-plugin', 'apache-seatunnel', 'apache-storm', 'apache-drill', 'jenkinsci-ec2-plugin', 'jenkinsci-jira-plugin', 'hazelcast-hazelcast-jet', 'elastic-apm-agent-java', 'jenkinsci-tfs-plugin', 'jenkinsci-java-client-api', 'jenkinsci-dingtalk-plugin', 'jenkinsci-gitlab-branch-source-plugin', 'apache-shiro', 'jenkinsci-cucumber-reports-plugin', 'Netflix-Surus', 'apache-druid', 'apache-rocketmq-spring', 'alibaba-tac', 'apache-rocketmq']\n",
      "147 repositories contain at least one module with dependencies enabling a gadget\n"
     ]
    }
   ],
   "source": [
    "# All github repositories, which at least contain one module susceptible to a gadget chain\n",
    "cnt = 0\n",
    "repo_names = []\n",
    "\n",
    "for project in data:\n",
    "    repo_name = \"-\".join(project.split(\"-\")[1:])\n",
    "    \n",
    "    has_vuln_module = False\n",
    "    for module in data[project]:\n",
    "        if \"payloads\" in data[project][module]:\n",
    "            has_vuln_module = True\n",
    "            break\n",
    "    \n",
    "    if has_vuln_module:\n",
    "        cnt += 1\n",
    "        repo_names.append(project)\n",
    "      \n",
    "print(repo_names)  \n",
    "print(f\"{cnt} repositories contain at least one module with dependencies enabling a gadget\")\n",
    "    "
   ],
   "metadata": {
    "collapsed": false,
    "ExecuteTime": {
     "end_time": "2024-01-05T07:39:03.681495200Z",
     "start_time": "2024-01-05T07:39:03.656779400Z"
    }
   },
   "id": "6fc330a2967e4bff"
  },
  {
   "cell_type": "code",
   "execution_count": 20,
   "outputs": [
    {
     "name": "stdout",
     "output_type": "stream",
     "text": [
      "[('CommonsBeanutils2', 1112), ('CommonsBeanutils1', 1104), ('AspectJWeaver', 360), ('CommonsCollections5', 92), ('CommonsCollections3', 92), ('CommonsCollections6', 92), ('CommonsCollections7', 92), ('CommonsCollections1', 92), ('SpringJta', 58), ('Click1', 36), ('CreateZeroFile', 34), ('Ssrf', 34), ('C3P0', 33), ('Jython4', 10), ('Jython3', 9), ('FileUpload1', 9), ('Lazylist', 4), ('ROME', 1), ('BeanShell1', 1), ('ROME2', 1)]\n"
     ]
    }
   ],
   "source": [
    "# Which payloads can be found / are most frequent\n",
    "\n",
    "payload_cnts = {}\n",
    "\n",
    "for project in data:\n",
    "    \n",
    "    for module in data[project]:\n",
    "        if \"payloads\" in data[project][module]:\n",
    "            for payload in data[project][module][\"payloads\"]:\n",
    "                if not payload in payload_cnts:\n",
    "                    payload_cnts[payload] = 0\n",
    "                \n",
    "                payload_cnts[payload] += 1\n",
    "                \n",
    "payload_cnts = sorted(payload_cnts.items(), key=lambda item: item[1], reverse=True)\n",
    "print(payload_cnts)\n"
   ],
   "metadata": {
    "collapsed": false,
    "ExecuteTime": {
     "end_time": "2024-01-05T07:39:04.360086600Z",
     "start_time": "2024-01-05T07:39:04.335854300Z"
    }
   },
   "id": "fc04cad2003138b3"
  },
  {
   "cell_type": "code",
   "execution_count": 44,
   "outputs": [
    {
     "name": "stdout",
     "output_type": "stream",
     "text": [
      "20\n",
      "\\textbf{commons-collections} & 1180 & 137 & ('3.2.2', 1088), ('3.2.1', 92) \\\\\n",
      "\\textbf{commons-logging} & 1118 & 127 & ('1.2', 698), ('1.1.1', 211), ('1.1.3', 204), ('1.0.3', 3), ('1.0.4', 2) \\\\\n",
      "\\textbf{commons-beanutils} & 1112 & 123 & ('1.9.4', 960), ('1.9.2', 127), ('1.9.3', 25) \\\\\n",
      "\\textbf{aspectjweaver} & 360 & 22 & ('1.8.13', 127), ('1.9.7', 119), ('1.9.6', 65), ('1.8.9', 15), ('1.8.10', 8), ('1.9.21', 8), ('1.9.20.1', 5), ('1.9.0', 4), ('1.9.20', 3), ('1.8.6', 2), ('1.9.5', 2), ('1.9.9.1', 2) \\\\\n",
      "\\textbf{servlet-api} & 72 & 10 & ('2.5', 32), ('3.1.0', 21), ('4.0.1', 15), ('2.4', 4) \\\\\n",
      "\\textbf{spring-context} & 58 & 14 & ('5.3.22', 19), ('5.2.23.RELEASE', 16), ('5.3.30', 4), ('5.3.27', 4), ('4.3.9.RELEASE', 4), ('5.2.21.RELEASE', 3), ('5.3.31', 2), ('4.3.20.RELEASE', 1), ('4.3.30.RELEASE', 1), ('4.3.7.RELEASE', 1), ('5.3.20', 1), ('5.1.1.RELEASE', 1), ('5.3.2', 1) \\\\\n",
      "\\textbf{spring-beans} & 57 & 14 & ('5.3.22', 19), ('5.2.23.RELEASE', 16), ('5.3.30', 4), ('4.3.9.RELEASE', 4), ('5.3.27', 3), ('5.2.21.RELEASE', 3), ('5.3.31', 1), ('4.3.20.RELEASE', 1), ('4.3.30.RELEASE', 1), ('4.3.7.RELEASE', 1), ('5.3.20', 1), ('5.1.1.RELEASE', 1), ('5.3.18', 1), ('5.3.2', 1) \\\\\n",
      "\\textbf{spring-core} & 56 & 14 & ('5.3.22', 18), ('5.2.23.RELEASE', 16), ('5.3.30', 4), ('5.3.27', 4), ('4.3.9.RELEASE', 4), ('5.2.21.RELEASE', 3), ('5.3.31', 1), ('4.3.20.RELEASE', 1), ('4.3.30.RELEASE', 1), ('4.3.7.RELEASE', 1), ('5.3.20', 1), ('5.1.1.RELEASE', 1), ('5.3.2', 1) \\\\\n",
      "\\textbf{spring-tx} & 53 & 14 & ('5.3.22', 16), ('5.2.23.RELEASE', 14), ('5.3.30', 4), ('5.3.27', 4), ('4.3.9.RELEASE', 4), ('5.2.21.RELEASE', 3), ('5.3.31', 1), ('4.3.20.RELEASE', 1), ('4.3.30.RELEASE', 1), ('4.3.10.RELEASE', 1), ('5.3.20', 1), ('5.1.1.RELEASE', 1), ('5.0.6.RELEASE', 1), ('5.3.2', 1) \\\\\n",
      "\\textbf{spring-context-support} & 41 & 12 & ('5.2.23.RELEASE', 16), ('5.3.22', 6), ('5.3.30', 4), ('4.3.9.RELEASE', 4), ('5.3.27', 3), ('5.2.21.RELEASE', 3), ('5.3.31', 1), ('4.3.30.RELEASE', 1), ('4.3.10.RELEASE', 1), ('5.3.20', 1), ('5.3.2', 1) \\\\\n",
      "\\textbf{scala-library} & 38 & 8 & ('2.12.7', 31), ('2.12.4', 3), ('2.13.8', 3), ('2.13.6', 1) \\\\\n",
      "\\textbf{c3p0} & 33 & 11 & ('0.9.5.4', 21), ('0.9.5.5', 11), ('0.9.5.3', 1) \\\\\n",
      "\\textbf{mchange-commons-java} & 33 & 11 & ('0.2.15', 28), ('0.2.19', 3), ('0.2.20', 2) \\\\\n",
      "\\textbf{jta} & 26 & 6 & ('1.1', 26) \\\\\n",
      "\\textbf{jython-standalone} & 9 & 3 & ('2.7.3', 9) \\\\\n",
      "\\textbf{commons-io} & 9 & 3 & ('2.7', 7), ('2.11.0', 1), ('2.2', 1) \\\\\n",
      "\\textbf{commons-fileupload} & 9 & 3 & ('1.3.2', 7), ('1.2.1', 1), ('1.3.1', 1) \\\\\n",
      "\\textbf{jython} & 2 & 2 & ('2.7.3', 2) \\\\\n",
      "\\textbf{bsh} & 1 & 1 & ('2.0b5', 1) \\\\\n",
      "\\textbf{rome} & 1 & 1 & ('0.9', 1) \\\\\n"
     ]
    }
   ],
   "source": [
    "# Which dependencies enable payloads the most \n",
    "\n",
    "class Dependency:\n",
    "    def __init__(self, name):\n",
    "        self.name = name\n",
    "        self.versions = {}\n",
    "        self.total = 0\n",
    "        self.projects_total = []\n",
    "    \n",
    "    def add_finding(self, version, project):\n",
    "        self.total += 1\n",
    "        if not version in self.versions:            \n",
    "            self.versions[version] = 0\n",
    "        self.versions[version] += 1\n",
    "        \n",
    "        if not project in self.projects_total:\n",
    "            self.projects_total.append(project)\n",
    "        \n",
    "    def __str__(self):\n",
    "        sorted_versions = sorted(self.versions.items(), key=lambda item: item[1], reverse=True)\n",
    "        return str(self.total) + \" & \" + str(len(self.projects_total)) + \" & \" + str(sorted_versions).replace(\"[\", \"\").replace(\"]\", \"\")\n",
    "\n",
    "dependency_cnts = {}\n",
    "\n",
    "for project in data:\n",
    "    \n",
    "    for module in data[project]:\n",
    "        for dep_obj in data[project][module][\"vuln_dependencies\"]:    \n",
    "            if \"enables_payload\" in dep_obj:\n",
    "                \n",
    "                d_name = dep_obj[\"dependency\"].replace(\"javax.\", \"\")\n",
    "                if not d_name in dependency_cnts:                    \n",
    "                    dependency_cnts[d_name] = Dependency(d_name)\n",
    "                dependency_cnts[d_name].add_finding(dep_obj[\"version\"], project)\n",
    "\n",
    "dependency_cnts = sorted(dependency_cnts.items(), key=lambda item: item[1].total, reverse=True)\n",
    "\n",
    "print(len(dependency_cnts))\n",
    "for dep in dependency_cnts:\n",
    "    print(\"\\\\textbf{\" + dep[0] + \"} & \" + str(dep[1]) + \" \\\\\\\\\")\n",
    "    \n"
   ],
   "metadata": {
    "collapsed": false,
    "ExecuteTime": {
     "end_time": "2024-01-05T09:02:11.486744200Z",
     "start_time": "2024-01-05T09:02:11.460441900Z"
    }
   },
   "id": "f566ccb71246339a"
  },
  {
   "cell_type": "code",
   "execution_count": 21,
   "outputs": [],
   "source": [],
   "metadata": {
    "collapsed": false,
    "ExecuteTime": {
     "end_time": "2024-01-05T07:40:38.855714Z",
     "start_time": "2024-01-05T07:40:38.851035600Z"
    }
   },
   "id": "20404dd233feed68"
  },
  {
   "cell_type": "code",
   "execution_count": null,
   "outputs": [],
   "source": [],
   "metadata": {
    "collapsed": false
   },
   "id": "9f52125603619e0c"
  }
 ],
 "metadata": {
  "kernelspec": {
   "display_name": "Python 3",
   "language": "python",
   "name": "python3"
  },
  "language_info": {
   "codemirror_mode": {
    "name": "ipython",
    "version": 2
   },
   "file_extension": ".py",
   "mimetype": "text/x-python",
   "name": "python",
   "nbconvert_exporter": "python",
   "pygments_lexer": "ipython2",
   "version": "2.7.6"
  }
 },
 "nbformat": 4,
 "nbformat_minor": 5
}
